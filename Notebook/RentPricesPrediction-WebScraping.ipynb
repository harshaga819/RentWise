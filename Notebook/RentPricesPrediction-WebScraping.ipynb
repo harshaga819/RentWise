{
 "cells": [
  {
   "cell_type": "code",
   "execution_count": 1,
   "id": "9b7b5513-92af-4af1-a17e-1d3c6288037f",
   "metadata": {},
   "outputs": [],
   "source": [
    "import requests\n",
    "from bs4 import BeautifulSoup\n",
    "import pandas as pd\n",
    "import time\n",
    "import re"
   ]
  },
  {
   "cell_type": "code",
   "execution_count": 2,
   "id": "ab3cead4-77ab-43c2-9270-9ed12906af6c",
   "metadata": {},
   "outputs": [],
   "source": [
    "base_url = \"https://www.magicbricks.com/property-for-rent-in-jaipur-pppfr/page-{}\""
   ]
  },
  {
   "cell_type": "code",
   "execution_count": 3,
   "id": "6187764b-dda5-451f-9e09-007405c9b958",
   "metadata": {},
   "outputs": [],
   "source": [
    "headers = {\"User-Agent\": \"Mozilla/5.0 (Windows NT 10.0; Win64; x64) AppleWebKit/537.36 (KHTML, like Gecko) Chrome/122.0.0.0 Safari/537.36\"}"
   ]
  },
  {
   "cell_type": "code",
   "execution_count": 1,
   "id": "bb1f9e68-2e54-437e-853e-6b65b5a23f96",
   "metadata": {},
   "outputs": [],
   "source": [
    "rents= []\n",
    "locations= []\n",
    "bhk=[]\n",
    "furnishing=[]\n",
    "tenant_preferred=[]\n",
    "carpet_area=[]\n",
    "floors=[]"
   ]
  },
  {
   "cell_type": "code",
   "execution_count": 5,
   "id": "8b7c8ffb-919e-4a2d-8b05-c9c124c8c7ae",
   "metadata": {},
   "outputs": [],
   "source": [
    "def clean_floor(floor_value):\n",
    "    if \"Ground\" in floor_value:\n",
    "        return 0\n",
    "    if \"Lower Basement\" in floor_value:\n",
    "        return -1\n",
    "    if \"Upper Basement\" in floor_value:\n",
    "        return -1\n",
    "    match = re.search(r\"(\\d+) out of \\d+\", floor_value)\n",
    "    return match.group(1) if match else \"N/A\""
   ]
  },
  {
   "cell_type": "code",
   "execution_count": 6,
   "id": "2b4a7ec9-0d51-4593-9350-223e9144aaab",
   "metadata": {},
   "outputs": [],
   "source": [
    "max_pages = 50"
   ]
  },
  {
   "cell_type": "code",
   "execution_count": 7,
   "id": "9e2d9a16-43b4-4130-811b-d6fe8b445c5e",
   "metadata": {},
   "outputs": [],
   "source": [
    "for page in range(1, max_pages + 1):\n",
    "    url = base_url.format(page)\n",
    "    \n",
    "\n",
    "    response = requests.get(url, headers=headers)\n",
    "\n",
    "    \n",
    "    if response.status_code != 200:\n",
    "        print(f\"Failed to load page {page}. Stopping...\")\n",
    "        break\n",
    "\n",
    "    \n",
    "    soup = BeautifulSoup(response.text, \"html.parser\")\n",
    "\n",
    "    \n",
    "    listings = soup.find_all(\"div\", class_=\"mb-srp__list\")\n",
    "\n",
    "    for listing in listings:\n",
    "        \n",
    "        rent_element = listing.find(\"div\", class_=\"mb-srp__card__price--amount\")\n",
    "        rent = rent_element.text.strip() if rent_element else \"N/A\"\n",
    "\n",
    "\n",
    "        details = listing.find_all(\"div\", class_=\"mb-srp__card__summary__list--item\")\n",
    "\n",
    "        \n",
    "        bed, furnish, tenant, area, floor, location =  \"N/A\", \"N/A\", \"N/A\", \"N/A\", \"N/A\", \"N/A\"\n",
    "\n",
    "        for detail in details:\n",
    "            text = detail.text.strip()\n",
    "            if \"Bathroom\" in text:\n",
    "                bed = text.replace(\"Bathroom\", \"\").strip()\n",
    "            elif \"Furnishing\" in text:\n",
    "                furnish = text.replace(\"Furnishing\", \"\").strip()\n",
    "            elif \"Tenant Preferred\" in text:\n",
    "                tenant = text.replace(\"Tenant Preferred\", \"\").strip()\n",
    "            elif \"Carpet Area\" in text:\n",
    "                area = text.replace(\"Carpet Area\", \"\").strip()\n",
    "            elif \"Super Area\" in text:\n",
    "                area = text.replace(\"Super Area\", \"\").strip()\n",
    "            elif \"Floor\" in text:\n",
    "                floor = clean_floor(text.replace(\"Floor\", \"\").strip())\n",
    "\n",
    "        \n",
    "        title_element = listing.find(\"h2\", class_=\"mb-srp__card--title\")\n",
    "        if title_element:\n",
    "            title_text = title_element.text.strip()\n",
    "            if \"Rent in\" in title_text:\n",
    "                location = title_text.split(\"Rent in\")[-1].strip()\n",
    "\n",
    "        \n",
    "        rents.append(rent)\n",
    "        bhk.append(bed)\n",
    "        furnishing.append(furnish)\n",
    "        tenant_preferred.append(tenant)\n",
    "        carpet_area.append(area)\n",
    "        locations.append(location)\n",
    "        floors.append(floor)\n",
    "\n",
    "    \n",
    "    time.sleep(2)\n"
   ]
  },
  {
   "cell_type": "code",
   "execution_count": 8,
   "id": "6686ebb5-cde2-48e8-945b-49358307fa92",
   "metadata": {},
   "outputs": [],
   "source": [
    "df = pd.DataFrame({\n",
    "    \"Rent\": rents,\n",
    "    \"BHK\": bhk,\n",
    "    \"Furnishing\": furnishing,\n",
    "    \"Tenant Preferred\": tenant_preferred,\n",
    "    \"Carpet Area\": carpet_area,\n",
    "    \"Location\": locations,\n",
    "    \"Floor\": floors\n",
    "})"
   ]
  },
  {
   "cell_type": "code",
   "execution_count": 9,
   "id": "27a92a3c-a998-423b-97b6-a13190b3853a",
   "metadata": {},
   "outputs": [],
   "source": [
    "df.to_excel(\"jaipur_rent.xlsx\", index=False)"
   ]
  },
  {
   "cell_type": "code",
   "execution_count": 10,
   "id": "09814494-690a-4c22-ba2f-570696e06f71",
   "metadata": {},
   "outputs": [
    {
     "name": "stdout",
     "output_type": "stream",
     "text": [
      "Excel file saved successfully!\n"
     ]
    }
   ],
   "source": [
    "print(\"Excel file saved successfully!\")"
   ]
  },
  {
   "cell_type": "code",
   "execution_count": null,
   "id": "3f5ed717-a3d4-44cb-ad30-389eb4c4e6e2",
   "metadata": {},
   "outputs": [],
   "source": []
  }
 ],
 "metadata": {
  "kernelspec": {
   "display_name": "Python 3 (ipykernel)",
   "language": "python",
   "name": "python3"
  },
  "language_info": {
   "codemirror_mode": {
    "name": "ipython",
    "version": 3
   },
   "file_extension": ".py",
   "mimetype": "text/x-python",
   "name": "python",
   "nbconvert_exporter": "python",
   "pygments_lexer": "ipython3",
   "version": "3.12.4"
  }
 },
 "nbformat": 4,
 "nbformat_minor": 5
}
